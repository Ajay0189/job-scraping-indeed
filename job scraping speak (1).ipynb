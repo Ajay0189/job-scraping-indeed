{
 "cells": [
  {
   "cell_type": "code",
   "execution_count": 85,
   "id": "e6390d78",
   "metadata": {},
   "outputs": [],
   "source": [
    "from bs4 import BeautifulSoup\n",
    "import time\n",
    "import pandas as pd\n",
    "import requests"
   ]
  },
  {
   "cell_type": "code",
   "execution_count": 86,
   "id": "328b3a32",
   "metadata": {},
   "outputs": [],
   "source": [
    "template=\"https://in.indeed.com/jobs?q={}&l={}\""
   ]
  },
  {
   "cell_type": "code",
   "execution_count": 87,
   "id": "da929942",
   "metadata": {},
   "outputs": [],
   "source": [
    "#Defining it in a function \n",
    "# We don't need to use formatting a url to fill in the spaces the requests will interpret correctly without them on this website\n",
    "# However we shouldn't include any puntuation or characters which we dont typically find in a url"
   ]
  },
  {
   "cell_type": "code",
   "execution_count": 88,
   "id": "db29139f",
   "metadata": {},
   "outputs": [],
   "source": [
    "def get_url(position,location):\n",
    "    #to generate a url from position and location\n",
    "    template='https://in.indeed.com/jobs?q={}&l={}'\n",
    "    url=template.format(position,location)\n",
    "    return url"
   ]
  },
  {
   "cell_type": "code",
   "execution_count": 89,
   "id": "f32fddd0",
   "metadata": {},
   "outputs": [
    {
     "data": {
      "text/plain": [
       "'https://in.indeed.com/jobs?q=data scientist&l=Mumbai'"
      ]
     },
     "execution_count": 89,
     "metadata": {},
     "output_type": "execute_result"
    }
   ],
   "source": [
    "url=get_url('data scientist','Mumbai')\n",
    "url"
   ]
  },
  {
   "cell_type": "markdown",
   "id": "7cec1d2e",
   "metadata": {},
   "source": [
    "# Extracting the raw html"
   ]
  },
  {
   "cell_type": "code",
   "execution_count": 90,
   "id": "105c2511",
   "metadata": {},
   "outputs": [],
   "source": [
    "# Request libraries returns a response object passing in the url we created as the argument this will send a request to the\n",
    "# website and response will be sent back \n",
    "# if the request is successfull the response object will return a code of 200"
   ]
  },
  {
   "cell_type": "code",
   "execution_count": 91,
   "id": "5a2a14d5",
   "metadata": {},
   "outputs": [],
   "source": [
    "response=requests.get(url)"
   ]
  },
  {
   "cell_type": "code",
   "execution_count": 92,
   "id": "e6a6bb95",
   "metadata": {},
   "outputs": [
    {
     "data": {
      "text/plain": [
       "<Response [200]>"
      ]
     },
     "execution_count": 92,
     "metadata": {},
     "output_type": "execute_result"
    }
   ],
   "source": [
    "response"
   ]
  },
  {
   "cell_type": "code",
   "execution_count": 93,
   "id": "a3fe4471",
   "metadata": {},
   "outputs": [],
   "source": [
    "# BeautifulSoup To navigate html tree stucture other webpage and extract the relevent parts"
   ]
  },
  {
   "cell_type": "code",
   "execution_count": null,
   "id": "72509ff8",
   "metadata": {},
   "outputs": [],
   "source": [
    "soup=BeautifulSoup(response.text,features='lxml')\n",
    "soup"
   ]
  },
  {
   "cell_type": "code",
   "execution_count": null,
   "id": "a7848ca7",
   "metadata": {},
   "outputs": [],
   "source": [
    "print(soup.prettify())"
   ]
  },
  {
   "cell_type": "code",
   "execution_count": null,
   "id": "965d3558",
   "metadata": {},
   "outputs": [],
   "source": [
    "cards=soup.find_all('div','job_seen_beacon')\n",
    "cards"
   ]
  },
  {
   "cell_type": "markdown",
   "id": "1637661f",
   "metadata": {},
   "source": [
    "# Prototype of the model with single record"
   ]
  },
  {
   "cell_type": "code",
   "execution_count": null,
   "id": "7ee3d3f5",
   "metadata": {},
   "outputs": [],
   "source": [
    "card=cards[0]\n",
    "card"
   ]
  },
  {
   "cell_type": "code",
   "execution_count": 98,
   "id": "2e744643",
   "metadata": {},
   "outputs": [
    {
     "data": {
      "text/plain": [
       "<a aria-label=\"full details of Decision Scientist\" class=\"jcs-JobTitle\" data-hide-spinner=\"true\" data-hiring-event=\"false\" data-jk=\"385095c9ea636f76\" data-mobtk=\"1g5hf3tdfjv4t800\" href=\"/rc/clk?jk=385095c9ea636f76&amp;fccid=5c439b65a0bd045b&amp;vjs=3\" id=\"job_385095c9ea636f76\" role=\"button\" target=\"_blank\"><span id=\"jobTitle-385095c9ea636f76\" title=\"Decision Scientist\">Decision Scientist</span></a>"
      ]
     },
     "execution_count": 98,
     "metadata": {},
     "output_type": "execute_result"
    }
   ],
   "source": [
    "atag=card.h2.a\n",
    "atag"
   ]
  },
  {
   "cell_type": "code",
   "execution_count": 99,
   "id": "4c420d72",
   "metadata": {},
   "outputs": [
    {
     "data": {
      "text/plain": [
       "'Decision Scientist'"
      ]
     },
     "execution_count": 99,
     "metadata": {},
     "output_type": "execute_result"
    }
   ],
   "source": [
    "stag=atag.span\n",
    "job_title=stag['title']\n",
    "job_title"
   ]
  },
  {
   "cell_type": "code",
   "execution_count": 100,
   "id": "0dc7e9e8",
   "metadata": {},
   "outputs": [],
   "source": [
    "# get will return the required criteria\n",
    "# we need to specify 'https://in.indeed.com' domain name to guide to the url"
   ]
  },
  {
   "cell_type": "code",
   "execution_count": 101,
   "id": "f85f35f6",
   "metadata": {},
   "outputs": [
    {
     "data": {
      "text/plain": [
       "'https://in.indeed.com/rc/clk?jk=385095c9ea636f76&fccid=5c439b65a0bd045b&vjs=3'"
      ]
     },
     "execution_count": 101,
     "metadata": {},
     "output_type": "execute_result"
    }
   ],
   "source": [
    "job_url='https://in.indeed.com'+atag.get('href')\n",
    "job_url"
   ]
  },
  {
   "cell_type": "code",
   "execution_count": 102,
   "id": "cfcaf782",
   "metadata": {},
   "outputs": [
    {
     "data": {
      "text/plain": [
       "'FedEx Express MEISA'"
      ]
     },
     "execution_count": 102,
     "metadata": {},
     "output_type": "execute_result"
    }
   ],
   "source": [
    "company=card.find('span','companyName').text\n",
    "company"
   ]
  },
  {
   "cell_type": "code",
   "execution_count": 103,
   "id": "e79798de",
   "metadata": {},
   "outputs": [
    {
     "data": {
      "text/plain": [
       "'Mumbai, Maharashtra'"
      ]
     },
     "execution_count": 103,
     "metadata": {},
     "output_type": "execute_result"
    }
   ],
   "source": [
    "location=card.find('div','companyLocation').text\n",
    "location"
   ]
  },
  {
   "cell_type": "code",
   "execution_count": 104,
   "id": "218455b4",
   "metadata": {},
   "outputs": [
    {
     "name": "stdout",
     "output_type": "stream",
     "text": [
      "Acts as a technical expert on complex and specialist subject(s).\n",
      "Supports management with the analysis, interpretation and application of complex information,…\n"
     ]
    }
   ],
   "source": [
    "job_summary=card.find('div','job-snippet').text.strip()\n",
    "job_summary=job_summary.split('\\n')\n",
    "for i in job_summary:\n",
    "    print(i)"
   ]
  },
  {
   "cell_type": "code",
   "execution_count": 105,
   "id": "e4c20bc9",
   "metadata": {},
   "outputs": [
    {
     "data": {
      "text/plain": [
       "'PostedToday'"
      ]
     },
     "execution_count": 105,
     "metadata": {},
     "output_type": "execute_result"
    }
   ],
   "source": [
    "post_date=card.find('span','date').text\n",
    "post_date"
   ]
  },
  {
   "cell_type": "code",
   "execution_count": 106,
   "id": "e4931159",
   "metadata": {},
   "outputs": [
    {
     "data": {
      "text/plain": [
       "''"
      ]
     },
     "execution_count": 106,
     "metadata": {},
     "output_type": "execute_result"
    }
   ],
   "source": [
    "try:\n",
    "    salary_range=card.find('div','metadata salary-snippet-container').text\n",
    "except AttributeError:\n",
    "    salary_range=''\n",
    "salary_range"
   ]
  },
  {
   "cell_type": "code",
   "execution_count": 107,
   "id": "c9f18eb9",
   "metadata": {},
   "outputs": [],
   "source": [
    "from datetime import datetime"
   ]
  },
  {
   "cell_type": "code",
   "execution_count": 108,
   "id": "f882c9f7",
   "metadata": {},
   "outputs": [
    {
     "data": {
      "text/plain": [
       "'14-06-2022'"
      ]
     },
     "execution_count": 108,
     "metadata": {},
     "output_type": "execute_result"
    }
   ],
   "source": [
    "today=datetime.today().strftime('%d-%m-%Y')\n",
    "today"
   ]
  },
  {
   "cell_type": "markdown",
   "id": "170e7978",
   "metadata": {},
   "source": [
    "# generalizing the function"
   ]
  },
  {
   "cell_type": "code",
   "execution_count": 109,
   "id": "80942b07",
   "metadata": {},
   "outputs": [],
   "source": [
    "def get_record(card):\n",
    "    '''Extract job record from single record'''\n",
    "    atag=card.h2.a\n",
    "    stag=atag.span\n",
    "    job_title=stag['title']\n",
    "    job_url='https://in.indeed.com'+atag.get('href')\n",
    "    company=card.find('span','companyName').text\n",
    "    location=card.find('div','companyLocation').text\n",
    "    post_date=card.find('span','date').text\n",
    "    job_summary=card.find('div','job-snippet').text.strip()\n",
    "    job_summary=job_summary.split('\\n')\n",
    "    today=datetime.today().strftime('%d-%m-%Y')\n",
    "    try:\n",
    "        salary_range=card.find('div','metadata salary-snippet-container').text\n",
    "    except AttributeError:\n",
    "        salary_range=''\n",
    "    record=(job_title,company,location,job_summary,post_date,today,salary_range,job_url)\n",
    "    return record"
   ]
  },
  {
   "cell_type": "code",
   "execution_count": null,
   "id": "e2293115",
   "metadata": {},
   "outputs": [],
   "source": [
    "records=[]\n",
    "for card in cards:\n",
    "    record=get_record(card)\n",
    "    records.append(record)\n",
    "records"
   ]
  },
  {
   "cell_type": "code",
   "execution_count": 111,
   "id": "121c9a65",
   "metadata": {},
   "outputs": [],
   "source": [
    "# We're going to use get method to extract the value of href property which will gives us the URL of the next page\n",
    "# This serves two purposes first it's going to tell us where to go next but it will also be an incdication that we've reached the end of the program\n",
    "# if the find method can't find this tag on the page if program can't find the tag it will return the Attribute error because \n",
    "# we are trying to pull href property from an object that doen't exist\n",
    "# This is relative URL so pre-pin the root of the web page to get the full URL"
   ]
  },
  {
   "cell_type": "code",
   "execution_count": 112,
   "id": "29224eea",
   "metadata": {},
   "outputs": [
    {
     "data": {
      "text/plain": [
       "'https://in.indeed.com/jobs?q=data+scientist&l=Mumbai&start=10'"
      ]
     },
     "execution_count": 112,
     "metadata": {},
     "output_type": "execute_result"
    }
   ],
   "source": [
    "url='https://in.indeed.com'+soup.find('a',{'aria-label':'Next'}).get('href')\n",
    "url"
   ]
  },
  {
   "cell_type": "code",
   "execution_count": 113,
   "id": "94af6b12",
   "metadata": {},
   "outputs": [],
   "source": [
    "# Creating a while loop that continues to run until this url block returns an attribute error at which the loop can break out"
   ]
  },
  {
   "cell_type": "code",
   "execution_count": 114,
   "id": "7fd88fb3",
   "metadata": {},
   "outputs": [],
   "source": [
    "while True:\n",
    "    try:\n",
    "        url='https://in.indeed.com'+soup.find('a',{'aria-label':'Next'}).get('href')\n",
    "    except AttributeError:\n",
    "        break\n",
    "    response=requests.get(url)\n",
    "    soup=BeautifulSoup(response.text,'html.parser')\n",
    "    cards=soup.find_all('div','job_seen_beacon')\n",
    "    for card in cards:\n",
    "        record=get_record(card)\n",
    "        records.append(record)\n",
    "        "
   ]
  },
  {
   "cell_type": "code",
   "execution_count": 115,
   "id": "bdb2eb45",
   "metadata": {},
   "outputs": [
    {
     "data": {
      "text/plain": [
       "270"
      ]
     },
     "execution_count": 115,
     "metadata": {},
     "output_type": "execute_result"
    }
   ],
   "source": [
    "len(records)"
   ]
  },
  {
   "cell_type": "code",
   "execution_count": 32,
   "id": "eb389a86",
   "metadata": {},
   "outputs": [],
   "source": [
    "#creating a main funtion using all the defined functions"
   ]
  },
  {
   "cell_type": "code",
   "execution_count": 83,
   "id": "49e6e01e",
   "metadata": {},
   "outputs": [],
   "source": [
    "import requests\n",
    "from bs4 import BeautifulSoup\n",
    "import pandas as pd\n",
    "import re\n",
    "import csv\n",
    "from datetime import datetime\n",
    "\n",
    "def get_url(position,location):\n",
    "    template='https://in.indeed.com/jobs?q={}&l={}'\n",
    "    url=template.format(position,location)\n",
    "    return url\n",
    "def get_record(card):\n",
    "    '''Extract job record from single record'''\n",
    "    atag=card.h2.a\n",
    "    stag=atag.span\n",
    "    job_title=stag['title']\n",
    "    job_url='https://in.indeed.com'+atag.get('href')\n",
    "    company=card.find('span','companyName').text\n",
    "    location=card.find('div','companyLocation').text\n",
    "    post_date=card.find('span','date').text\n",
    "    job_summary=card.find('div','job-snippet').text.strip().replace('\\n','')\n",
    "    today=datetime.today().strftime('%d-%m-%Y')\n",
    "    try:\n",
    "        salary_range=card.find('div','metadata salary-snippet-container').text\n",
    "    except AttributeError:\n",
    "        salary_range=''\n",
    "    record=(job_title,company,location,post_date,today,salary_range,job_summary,job_url)\n",
    "    return record\n",
    "def main(position,location):\n",
    "    records=[]\n",
    "    url=get_url(position,location)\n",
    "    while True:\n",
    "        response=requests.get(url)\n",
    "        soup=BeautifulSoup(response.text,'html.parser')\n",
    "        cards=soup.find_all('div','job_seen_beacon')\n",
    "        for card in cards:\n",
    "            record=get_record(card)\n",
    "            records.append(record)\n",
    "        try:\n",
    "            url='https://in.indeed.com'+soup.find('a',{'aria-label':'Next'}).get('href')#--goes to next page\n",
    "        except AttributeError:\n",
    "            break\n",
    "            \n",
    "        with open('results.csv','w',newline='',encoding='utf-8') as f:\n",
    "            writer=csv.writer(f)\n",
    "            writer.writerow(['job_title','company','location','post_date','today','salary_range','job_summary','job_url'])\n",
    "            writer.writerows(records)\n"
   ]
  },
  {
   "cell_type": "code",
   "execution_count": 41,
   "id": "f22e6d82",
   "metadata": {},
   "outputs": [],
   "source": [
    "main('full time','India')"
   ]
  },
  {
   "cell_type": "code",
   "execution_count": 35,
   "id": "ecacddf4",
   "metadata": {},
   "outputs": [],
   "source": [
    "df=pd.read_csv('results.csv')"
   ]
  },
  {
   "cell_type": "code",
   "execution_count": 36,
   "id": "f68cb216",
   "metadata": {},
   "outputs": [],
   "source": [
    "#created 1200+ records using webscraping"
   ]
  },
  {
   "cell_type": "code",
   "execution_count": 37,
   "id": "47977c6d",
   "metadata": {},
   "outputs": [
    {
     "data": {
      "text/html": [
       "<div>\n",
       "<style scoped>\n",
       "    .dataframe tbody tr th:only-of-type {\n",
       "        vertical-align: middle;\n",
       "    }\n",
       "\n",
       "    .dataframe tbody tr th {\n",
       "        vertical-align: top;\n",
       "    }\n",
       "\n",
       "    .dataframe thead th {\n",
       "        text-align: right;\n",
       "    }\n",
       "</style>\n",
       "<table border=\"1\" class=\"dataframe\">\n",
       "  <thead>\n",
       "    <tr style=\"text-align: right;\">\n",
       "      <th></th>\n",
       "      <th>job_title</th>\n",
       "      <th>company</th>\n",
       "      <th>location</th>\n",
       "      <th>post_date</th>\n",
       "      <th>today</th>\n",
       "      <th>salary_range</th>\n",
       "      <th>job_summary</th>\n",
       "      <th>job_url</th>\n",
       "    </tr>\n",
       "  </thead>\n",
       "  <tbody>\n",
       "    <tr>\n",
       "      <th>0</th>\n",
       "      <td>Data Entry Lead</td>\n",
       "      <td>Talent500 Tech (India) Private Limited</td>\n",
       "      <td>Hyderabad, Telangana</td>\n",
       "      <td>PostedToday</td>\n",
       "      <td>14-06-2022</td>\n",
       "      <td>₹5,00,000 a year</td>\n",
       "      <td>The Lead Data Entry Associate is responsible f...</td>\n",
       "      <td>https://in.indeed.com/pagead/clk?mo=r&amp;ad=-6NYl...</td>\n",
       "    </tr>\n",
       "    <tr>\n",
       "      <th>1</th>\n",
       "      <td>BVHMI - Human Resources Manager - (Full Time P...</td>\n",
       "      <td>BVH Services</td>\n",
       "      <td>Gandhidham, Gujarat</td>\n",
       "      <td>EmployerActive 6 days ago</td>\n",
       "      <td>14-06-2022</td>\n",
       "      <td>₹45,000 - ₹60,000 a month</td>\n",
       "      <td>Organization and time management skills.Job Ty...</td>\n",
       "      <td>https://in.indeed.com/pagead/clk?mo=r&amp;ad=-6NYl...</td>\n",
       "    </tr>\n",
       "    <tr>\n",
       "      <th>2</th>\n",
       "      <td>Customer Success Executive</td>\n",
       "      <td>LIVINGFOODCO PRIVATE LIMITED</td>\n",
       "      <td>Bengaluru, Karnataka</td>\n",
       "      <td>EmployerActive 2 days ago</td>\n",
       "      <td>14-06-2022</td>\n",
       "      <td>₹3,00,000 - ₹5,00,000 a year</td>\n",
       "      <td>Job Types: Full-time, Regular / Permanent.Answ...</td>\n",
       "      <td>https://in.indeed.com/pagead/clk?mo=r&amp;ad=-6NYl...</td>\n",
       "    </tr>\n",
       "    <tr>\n",
       "      <th>3</th>\n",
       "      <td>Office Administrator</td>\n",
       "      <td>LIVINGFOODCO PRIVATE LIMITED</td>\n",
       "      <td>Bengaluru, Karnataka</td>\n",
       "      <td>EmployerActive 8 days ago</td>\n",
       "      <td>14-06-2022</td>\n",
       "      <td>₹4,00,000 - ₹4,50,000 a year</td>\n",
       "      <td>Coordinate office activities and operations to...</td>\n",
       "      <td>https://in.indeed.com/pagead/clk?mo=r&amp;ad=-6NYl...</td>\n",
       "    </tr>\n",
       "    <tr>\n",
       "      <th>4</th>\n",
       "      <td>Fresher Jobs - US Recruiter - Night Shift</td>\n",
       "      <td>Denken Solutions India Private Limited</td>\n",
       "      <td>Guntur, Andhra Pradesh</td>\n",
       "      <td>Posted11 days ago</td>\n",
       "      <td>14-06-2022</td>\n",
       "      <td>NaN</td>\n",
       "      <td>Source candidates using job portals including ...</td>\n",
       "      <td>https://in.indeed.com/pagead/clk?mo=r&amp;ad=-6NYl...</td>\n",
       "    </tr>\n",
       "    <tr>\n",
       "      <th>...</th>\n",
       "      <td>...</td>\n",
       "      <td>...</td>\n",
       "      <td>...</td>\n",
       "      <td>...</td>\n",
       "      <td>...</td>\n",
       "      <td>...</td>\n",
       "      <td>...</td>\n",
       "      <td>...</td>\n",
       "    </tr>\n",
       "    <tr>\n",
       "      <th>1255</th>\n",
       "      <td>General Nurses - work in the UK</td>\n",
       "      <td>Servisource Recruitment Ltd</td>\n",
       "      <td>Delhi, Delhi</td>\n",
       "      <td>Hiring ongoing</td>\n",
       "      <td>14-06-2022</td>\n",
       "      <td>₹35,00,000 a year</td>\n",
       "      <td>Servisource Healthcare UK in conjunction with ...</td>\n",
       "      <td>https://in.indeed.com/pagead/clk?mo=r&amp;ad=-6NYl...</td>\n",
       "    </tr>\n",
       "    <tr>\n",
       "      <th>1256</th>\n",
       "      <td>Lead / Principal Biostatistician</td>\n",
       "      <td>Labcorp</td>\n",
       "      <td>Bengaluru, Karnataka</td>\n",
       "      <td>Posted30+ days ago</td>\n",
       "      <td>14-06-2022</td>\n",
       "      <td>NaN</td>\n",
       "      <td>Lead complex studies such as NDA submissions o...</td>\n",
       "      <td>https://in.indeed.com/pagead/clk?mo=r&amp;ad=-6NYl...</td>\n",
       "    </tr>\n",
       "    <tr>\n",
       "      <th>1257</th>\n",
       "      <td>Senior QA Engineer</td>\n",
       "      <td>7-Eleven</td>\n",
       "      <td>Bengaluru, Karnataka</td>\n",
       "      <td>Posted30+ days ago</td>\n",
       "      <td>14-06-2022</td>\n",
       "      <td>NaN</td>\n",
       "      <td>For 90 years, 7-Eleven has been successfully m...</td>\n",
       "      <td>https://in.indeed.com/pagead/clk?mo=r&amp;ad=-6NYl...</td>\n",
       "    </tr>\n",
       "    <tr>\n",
       "      <th>1258</th>\n",
       "      <td>Occupational Therapist</td>\n",
       "      <td>Health care</td>\n",
       "      <td>Chennai, Tamil Nadu</td>\n",
       "      <td>Posted30+ days ago</td>\n",
       "      <td>14-06-2022</td>\n",
       "      <td>NaN</td>\n",
       "      <td>Bachelors of Occupational Therapy/Masters of O...</td>\n",
       "      <td>https://in.indeed.com/pagead/clk?mo=r&amp;ad=-6NYl...</td>\n",
       "    </tr>\n",
       "    <tr>\n",
       "      <th>1259</th>\n",
       "      <td>React.js Developer</td>\n",
       "      <td>7-Eleven</td>\n",
       "      <td>Bengaluru, Karnataka</td>\n",
       "      <td>Posted30+ days ago</td>\n",
       "      <td>14-06-2022</td>\n",
       "      <td>NaN</td>\n",
       "      <td>For 90 years, 7-Eleven has been successfully m...</td>\n",
       "      <td>https://in.indeed.com/pagead/clk?mo=r&amp;ad=-6NYl...</td>\n",
       "    </tr>\n",
       "  </tbody>\n",
       "</table>\n",
       "<p>1260 rows × 8 columns</p>\n",
       "</div>"
      ],
      "text/plain": [
       "                                              job_title  \\\n",
       "0                                       Data Entry Lead   \n",
       "1     BVHMI - Human Resources Manager - (Full Time P...   \n",
       "2                            Customer Success Executive   \n",
       "3                                  Office Administrator   \n",
       "4             Fresher Jobs - US Recruiter - Night Shift   \n",
       "...                                                 ...   \n",
       "1255                    General Nurses - work in the UK   \n",
       "1256                   Lead / Principal Biostatistician   \n",
       "1257                                 Senior QA Engineer   \n",
       "1258                             Occupational Therapist   \n",
       "1259                                 React.js Developer   \n",
       "\n",
       "                                     company                location  \\\n",
       "0     Talent500 Tech (India) Private Limited    Hyderabad, Telangana   \n",
       "1                               BVH Services     Gandhidham, Gujarat   \n",
       "2               LIVINGFOODCO PRIVATE LIMITED    Bengaluru, Karnataka   \n",
       "3               LIVINGFOODCO PRIVATE LIMITED    Bengaluru, Karnataka   \n",
       "4     Denken Solutions India Private Limited  Guntur, Andhra Pradesh   \n",
       "...                                      ...                     ...   \n",
       "1255             Servisource Recruitment Ltd            Delhi, Delhi   \n",
       "1256                                 Labcorp    Bengaluru, Karnataka   \n",
       "1257                                7-Eleven    Bengaluru, Karnataka   \n",
       "1258                             Health care     Chennai, Tamil Nadu   \n",
       "1259                                7-Eleven    Bengaluru, Karnataka   \n",
       "\n",
       "                      post_date       today                  salary_range  \\\n",
       "0                   PostedToday  14-06-2022              ₹5,00,000 a year   \n",
       "1     EmployerActive 6 days ago  14-06-2022     ₹45,000 - ₹60,000 a month   \n",
       "2     EmployerActive 2 days ago  14-06-2022  ₹3,00,000 - ₹5,00,000 a year   \n",
       "3     EmployerActive 8 days ago  14-06-2022  ₹4,00,000 - ₹4,50,000 a year   \n",
       "4             Posted11 days ago  14-06-2022                           NaN   \n",
       "...                         ...         ...                           ...   \n",
       "1255             Hiring ongoing  14-06-2022             ₹35,00,000 a year   \n",
       "1256         Posted30+ days ago  14-06-2022                           NaN   \n",
       "1257         Posted30+ days ago  14-06-2022                           NaN   \n",
       "1258         Posted30+ days ago  14-06-2022                           NaN   \n",
       "1259         Posted30+ days ago  14-06-2022                           NaN   \n",
       "\n",
       "                                            job_summary  \\\n",
       "0     The Lead Data Entry Associate is responsible f...   \n",
       "1     Organization and time management skills.Job Ty...   \n",
       "2     Job Types: Full-time, Regular / Permanent.Answ...   \n",
       "3     Coordinate office activities and operations to...   \n",
       "4     Source candidates using job portals including ...   \n",
       "...                                                 ...   \n",
       "1255  Servisource Healthcare UK in conjunction with ...   \n",
       "1256  Lead complex studies such as NDA submissions o...   \n",
       "1257  For 90 years, 7-Eleven has been successfully m...   \n",
       "1258  Bachelors of Occupational Therapy/Masters of O...   \n",
       "1259  For 90 years, 7-Eleven has been successfully m...   \n",
       "\n",
       "                                                job_url  \n",
       "0     https://in.indeed.com/pagead/clk?mo=r&ad=-6NYl...  \n",
       "1     https://in.indeed.com/pagead/clk?mo=r&ad=-6NYl...  \n",
       "2     https://in.indeed.com/pagead/clk?mo=r&ad=-6NYl...  \n",
       "3     https://in.indeed.com/pagead/clk?mo=r&ad=-6NYl...  \n",
       "4     https://in.indeed.com/pagead/clk?mo=r&ad=-6NYl...  \n",
       "...                                                 ...  \n",
       "1255  https://in.indeed.com/pagead/clk?mo=r&ad=-6NYl...  \n",
       "1256  https://in.indeed.com/pagead/clk?mo=r&ad=-6NYl...  \n",
       "1257  https://in.indeed.com/pagead/clk?mo=r&ad=-6NYl...  \n",
       "1258  https://in.indeed.com/pagead/clk?mo=r&ad=-6NYl...  \n",
       "1259  https://in.indeed.com/pagead/clk?mo=r&ad=-6NYl...  \n",
       "\n",
       "[1260 rows x 8 columns]"
      ]
     },
     "execution_count": 37,
     "metadata": {},
     "output_type": "execute_result"
    }
   ],
   "source": [
    "df"
   ]
  }
 ],
 "metadata": {
  "kernelspec": {
   "display_name": "Python 3",
   "language": "python",
   "name": "python3"
  },
  "language_info": {
   "codemirror_mode": {
    "name": "ipython",
    "version": 3
   },
   "file_extension": ".py",
   "mimetype": "text/x-python",
   "name": "python",
   "nbconvert_exporter": "python",
   "pygments_lexer": "ipython3",
   "version": "3.8.8"
  }
 },
 "nbformat": 4,
 "nbformat_minor": 5
}
